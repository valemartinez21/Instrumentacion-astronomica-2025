{
 "cells": [
  {
   "cell_type": "code",
   "execution_count": 1,
   "id": "5a4a1c0e-6e06-4b63-8a7d-92be31ec80ae",
   "metadata": {},
   "outputs": [],
   "source": [
    "\n",
    "from photutils.segmentation import (SourceCatalog, deblend_sources, detect_sources, detect_threshold)\n",
    "from astropy.io import fits\n",
    "from matplotlib import pyplot as plt\n",
    "import numpy as np"
   ]
  },
  {
   "cell_type": "code",
   "execution_count": 21,
   "id": "30853754-d55c-48a5-b143-58283c2bcf6c",
   "metadata": {},
   "outputs": [
    {
     "data": {
      "text/plain": [
       "SIMPLE  =                    T / conforms to FITS standard                      \n",
       "BITPIX  =                  -32 / array data type                                \n",
       "NAXIS   =                    2 / number of array dimensions                     \n",
       "NAXIS1  =                 4096                                                  \n",
       "NAXIS2  =                 4096                                                  \n",
       "COMMENT   FITS (Flexible Image Transport System) format is defined in 'Astronomy\n",
       "COMMENT   and Astrophysics', volume 376, page 359; bibcode: 2001A&A...376..359H \n",
       "OBSERVER= 'Martinez, Oyarzo, Vargas' / SBIGFITSEXT The name of the observer     \n",
       "ORIGIN  = 'MAS500  '           / Description of location                        \n",
       "TELESCOP= 'MAS500  '           / SBIGFITSEXT The model Telescope                \n",
       "FOCALLEN=                6500. / SBIGFITSEXT Telescope focal length in mm       \n",
       "APTDIA  =                 500. / SBIGFITSEXT Aperture diameter in mm            \n",
       "SBUUID  = '{da52125b-74f6-496b-b6b1-f32bb4b7aaa5}' / Photo UUID                 \n",
       "EXPTIME =                   5. / SBIGFITSEXT Total exposure time in seconds     \n",
       "SWCREATE= 'TheSkyX Version 10.5.0 Build 12545' / SBIGFITSEXT Name & version of s\n",
       "COLORCCD=                    0 / Non zero if image is from a Bayer color ccd    \n",
       "DISPINCR=                    1 / Non zero to automatically display the image in \n",
       "PICTTYPE=                    1 / Image type as index 0= Unknown 1=Light, 2=Bias,\n",
       "IMAGETYP= 'Light Frame'        / SBIGFITSEXT Light, Dark, Bias or Flat          \n",
       "XORGSUBF=                    0 / SBIGFITSEXT Subframe x upper-left pixel in bin \n",
       "YORGSUBF=                    0 / SBIGFITSEXT Subframe y upper-left pixel in bin \n",
       "XBINNING=                    1 / SBIGFITSEXT Binning factor in width            \n",
       "YBINNING=                    1 / SBIGFITSEXT Binning factor in height           \n",
       "CCD-TEMP=                -15.1 / SBIGFITSEXT Temperature of the CCD             \n",
       "SET-TEMP=                 -16. / SBIGFITSEXT The cooler setpoint in degrees C   \n",
       "SITELAT = '-30 27 35.00'       / SBIGFITSEXT Latitude of the imaging location   \n",
       "SITELONG= '+70 45 01.00'       / SBIGFITSEXT Longitude of the imaging location  \n",
       "LST     = '+21 13 58.85'       / Local sidereal time                            \n",
       "OBSGEO-B=    -30.4597222222222 / Latitude of the observation in degrees, North +\n",
       "OBSGEO-L=    -70.7502777777778 / Longitude of the observation in degrees, East +\n",
       "OBSGEO-H=                1600. / Altitude of the observation in meters          \n",
       "BTP     =                    1 / Beyond the pole                                \n",
       "CENTAZ  =     108.102086657453 / SBIGFITSEXT Azimuth of the center of the image \n",
       "CENTALT =     59.9226262655221 / SBIGFITSEXT Altitude of the center of the image\n",
       "AIRMASS =     1.15560012708022 / Airmass of the telescope                       \n",
       "TELEHA  = '-02 22 08.35'       / Telescope hour angle                           \n",
       "MOUNT   = 'ASCOM Mount'        / The telescope mount                            \n",
       "OBJCTRA = '23 34 43.318'       / SBIGFITSEXT The right ascension of the center o\n",
       "OBJCTDEC= '-35 05 46.59'       / SBIGFITSEXT The declination of the center of th\n",
       "OBJECT  = 'HIP 116375'         / SBIGFITSEXT The name of the object imaged      \n",
       "INSTRUME= 'Gx/Cx USB'          / SBIGFITSEXT The model camera used.             \n",
       "XPIXSZ  =                   9. / SBIGFITSEXT Pixel width in microns after binnin\n",
       "YPIXSZ  =                   9. / SBIGFITSEXT Pixel height in microns after binni\n",
       "FOCPOS  =                2157. / The focuser position.                          \n",
       "FOCTEMP =     17.6952590942383 / The focuser temperature in degrees C.          \n",
       "FOCTMPSC= 'Focuser (Default)'  / The focuser temperature source.                \n",
       "FILTER  = 'B       '           / SBIGFITSEXT The optical filter used to take ima\n",
       "DATE-OBS= '2025-10-03T01:08:59.813' / SBIGFITSEXT UTC of start exp. in ISO 8601 \n",
       "GAIN    =    0.850000023841858 / Camera gain in e-/ADU                          \n",
       "PIXSCALE=                 0.36                                                  \n",
       "CTYPE1  = 'RA---TAN'                                                            \n",
       "CTYPE2  = 'DEC--TAN'                                                            \n",
       "CRPIX1  =                 2048                                                  \n",
       "CRPIX2  =                 2048                                                  \n",
       "CRVAL1  =   353.68049166666657                                                  \n",
       "CRVAL2  =  -35.096275000000006                                                  \n",
       "CD1_1   =              -0.0001                                                  \n",
       "CD1_2   =                    0                                                  \n",
       "CD2_1   =                    0                                                  \n",
       "CD2_2   =               0.0001                                                  "
      ]
     },
     "execution_count": 21,
     "metadata": {},
     "output_type": "execute_result"
    }
   ],
   "source": [
    "#Abrimos el fits de las estrellas\n",
    "star_1b = fits.open('Star1_B.fits')[0]\n",
    "star_1v = fits.open('Star1_V.fits')[0]\n",
    "star_2b = fits.open('Star2_B.fits')[0]\n",
    "star_2v = fits.open('Star2_V.fits')[0]\n",
    "#data y header\n",
    "data = star_1b.data\n",
    "header = star_1b.header\n",
    "\n",
    "header"
   ]
  },
  {
   "cell_type": "code",
   "execution_count": 22,
   "id": "914ecdc5-8e30-43c8-aa92-29754ad39953",
   "metadata": {},
   "outputs": [
    {
     "name": "stderr",
     "output_type": "stream",
     "text": [
      "WARNING: Input data contains invalid values (NaNs or infs), which were automatically clipped. [astropy.stats.sigma_clipping]\n",
      "WARNING: Input data contains invalid values (NaNs or infs), which were automatically clipped. [astropy.stats.sigma_clipping]\n",
      "WARNING: Input data contains invalid values (NaNs or infs), which were automatically clipped. [astropy.stats.sigma_clipping]\n",
      "WARNING: Input data contains invalid values (NaNs or infs), which were automatically clipped. [astropy.stats.sigma_clipping]\n"
     ]
    }
   ],
   "source": [
    "#Threshold, para cada estrella\n",
    "threshold_1b = detect_threshold(star_1b.data, nsigma = 5)\n",
    "threshold_1v = detect_threshold(star_1v.data, nsigma = 5)\n",
    "threshold_2b = detect_threshold(star_2b.data, nsigma = 5)\n",
    "threshold_2v = detect_threshold(star_2v.data, nsigma = 5)\n",
    "#Detectamos fuentes\n",
    "sour_1b = detect_sources(star_1b.data, threshold_1b, npixels=50)\n",
    "sour_1v = detect_sources(star_1v.data, threshold_1v, npixels=50)\n",
    "sour_2b = detect_sources(star_2b.data, threshold_2b, npixels=50)\n",
    "sour_2v = detect_sources(star_1v.data, threshold_2v, npixels=50)"
   ]
  },
  {
   "cell_type": "code",
   "execution_count": 23,
   "id": "08d2b3b2-7674-490f-85f9-04b938c532c9",
   "metadata": {},
   "outputs": [
    {
     "data": {
      "image/png": "[encoded data removed]",
      "text/plain": [
       "<Figure size 500x500 with 1 Axes>"
      ]
     },
     "metadata": {},
     "output_type": "display_data"
    },
    {
     "name": "stdout",
     "output_type": "stream",
     "text": [
      "<photutils.segmentation.core.SegmentationImage>\n",
      "shape: (4096, 4096)\n",
      "nlabels: 10\n",
      "labels: [ 1  2  3  4  5  6  7  8  9 10]\n"
     ]
    },
    {
     "data": {
      "image/png": "[encoded data removed]",
      "text/plain": [
       "<Figure size 500x500 with 1 Axes>"
      ]
     },
     "metadata": {},
     "output_type": "display_data"
    },
    {
     "name": "stdout",
     "output_type": "stream",
     "text": [
      "<photutils.segmentation.core.SegmentationImage>\n",
      "shape: (4096, 4096)\n",
      "nlabels: 8\n",
      "labels: [1 2 3 4 5 6 7 8]\n"
     ]
    },
    {
     "data": {
      "image/png": "[encoded data removed]",
      "text/plain": [
       "<Figure size 500x500 with 1 Axes>"
      ]
     },
     "metadata": {},
     "output_type": "display_data"
    },
    {
     "name": "stdout",
     "output_type": "stream",
     "text": [
      "<photutils.segmentation.core.SegmentationImage>\n",
      "shape: (4096, 4096)\n",
      "nlabels: 13\n",
      "labels: [ 1  2  3  4  5  6  7  8  9 10 11 12 13]\n"
     ]
    },
    {
     "data": {
      "image/png": "[encoded data removed]",
      "text/plain": [
       "<Figure size 500x500 with 1 Axes>"
      ]
     },
     "metadata": {},
     "output_type": "display_data"
    },
    {
     "name": "stdout",
     "output_type": "stream",
     "text": [
      "<photutils.segmentation.core.SegmentationImage>\n",
      "shape: (4096, 4096)\n",
      "nlabels: 8\n",
      "labels: [1 2 3 4 5 6 7 8]\n"
     ]
    }
   ],
   "source": [
    "#Generamos un mapa de colores que asocia un color a cada fuente\n",
    "cmap_sour_1b = sour_1b.make_cmap(seed=123)\n",
    "cmap_sour_1v = sour_1v.make_cmap(seed=123)\n",
    "cmap_sour_2b = sour_2b.make_cmap(seed=123)\n",
    "cmap_sour_2v = sour_2v.make_cmap(seed=123)\n",
    "\n",
    "#Mostramos las fuentes obtenidas\n",
    "fig, ax = plt.subplots(1, 1, figsize=(5,5))\n",
    "ax.imshow(sour_1b, origin='lower', cmap=cmap_sour_1b, interpolation='nearest')\n",
    "plt.title('Fuentes detectadas HIP 277 filtro B')\n",
    "plt.show()\n",
    "print(sour_1b)\n",
    "\n",
    "#Mostramos las fuentes obtenidas\n",
    "fig, ax = plt.subplots(1, 1, figsize=(5,5))\n",
    "ax.imshow(sour_1v, origin='lower', cmap=cmap_sour_1v, interpolation='nearest')\n",
    "plt.title('Fuentes detectadas HIP 277 filtro V')\n",
    "plt.show()\n",
    "print(sour_1v)\n",
    "\n",
    "#Mostramos las fuentes obtenidas\n",
    "fig, ax = plt.subplots(1, 1, figsize=(5,5))\n",
    "ax.imshow(sour_2b, origin='lower', cmap=cmap_sour_2b, interpolation='nearest')\n",
    "plt.title('Fuentes detectadas HIP 1101 filtro B')\n",
    "plt.show()\n",
    "print(sour_2b)\n",
    "\n",
    "#Mostramos las fuentes obtenidas\n",
    "fig, ax = plt.subplots(1, 1, figsize=(5,5))\n",
    "ax.imshow(sour_2v, origin='lower', cmap=cmap_sour_2v, interpolation='nearest')\n",
    "plt.title('Fuentes detectadas HIP 1101 filtro V')\n",
    "plt.show()\n",
    "print(sour_2v)"
   ]
  },
  {
   "cell_type": "code",
   "execution_count": 24,
   "id": "1ab90a33-9493-429d-b88a-b7923f41a8a3",
   "metadata": {},
   "outputs": [
    {
     "data": {
      "text/html": [
       "<div><i>QTable length=10</i>\n",
       "<table id=\"table1925712056848\" class=\"table-striped table-bordered table-condensed\">\n",
       "<thead><tr><th>label</th><th>xcentroid</th><th>ycentroid</th><th>sky_centroid</th><th>bbox_xmin</th><th>bbox_xmax</th><th>bbox_ymin</th><th>bbox_ymax</th><th>area</th><th>semimajor_sigma</th><th>semiminor_sigma</th><th>orientation</th><th>eccentricity</th><th>min_value</th><th>max_value</th><th>local_background</th><th>segment_flux</th><th>segment_fluxerr</th><th>kron_flux</th><th>kron_fluxerr</th></tr></thead>\n",
       "<thead><tr><th></th><th></th><th></th><th></th><th></th><th></th><th></th><th></th><th>pix2</th><th>pix</th><th>pix</th><th>deg</th><th></th><th></th><th></th><th></th><th></th><th></th><th></th><th></th></tr></thead>\n",
       "<thead><tr><th>int32</th><th>float64</th><th>float64</th><th>object</th><th>int32</th><th>int32</th><th>int32</th><th>int32</th><th>float64</th><th>float64</th><th>float64</th><th>float64</th><th>float64</th><th>float64</th><th>float64</th><th>float64</th><th>float64</th><th>float64</th><th>float64</th><th>float64</th></tr></thead>\n",
       "<tr><td>1</td><td>176.5752521074396</td><td>1019.7368239021661</td><td>None</td><td>166</td><td>186</td><td>1011</td><td>1028</td><td>258.0</td><td>4.14308724569323</td><td>3.171969465844313</td><td>10.869968136718834</td><td>0.6433106225369738</td><td>15.20548152923584</td><td>182.0935516357422</td><td>0.0</td><td>15895.371398925781</td><td>nan</td><td>18439.08326486337</td><td>nan</td></tr>\n",
       "<tr><td>2</td><td>2503.8747388798265</td><td>1067.1796990976197</td><td>None</td><td>2497</td><td>2509</td><td>1064</td><td>1071</td><td>55.0</td><td>2.834064502643169</td><td>1.7282144292498824</td><td>3.1615006554547853</td><td>0.7925548209942743</td><td>15.317797660827637</td><td>32.0369758605957</td><td>0.0</td><td>1099.720030784607</td><td>nan</td><td>3420.8389509093113</td><td>nan</td></tr>\n",
       "<tr><td>3</td><td>2486.448651913088</td><td>1103.9439241442524</td><td>None</td><td>2479</td><td>2492</td><td>1100</td><td>1108</td><td>91.0</td><td>3.335817998303991</td><td>2.012679836227238</td><td>5.665677997479658</td><td>0.7974733200134931</td><td>15.428679466247559</td><td>38.47940444946289</td><td>0.0</td><td>2189.994330406189</td><td>nan</td><td>4867.819669991924</td><td>nan</td></tr>\n",
       "<tr><td>4</td><td>1622.922748494046</td><td>1785.3510151213031</td><td>None</td><td>1612</td><td>1632</td><td>1777</td><td>1793</td><td>238.0</td><td>4.269678925515606</td><td>3.034168175776314</td><td>14.066504465221204</td><td>0.7035644431461883</td><td>15.296687126159668</td><td>173.40638732910156</td><td>0.0</td><td>13197.379608154297</td><td>nan</td><td>13333.25872486088</td><td>nan</td></tr>\n",
       "<tr><td>5</td><td>2045.8416455562071</td><td>2035.9266552765503</td><td>None</td><td>2017</td><td>2075</td><td>2005</td><td>2065</td><td>2136.0</td><td>5.823203140889464</td><td>4.973051019126162</td><td>17.711424320598578</td><td>0.5202629880019207</td><td>15.201695442199707</td><td>12232.30078125</td><td>0.0</td><td>1236592.6837854385</td><td>nan</td><td>1207926.5702658119</td><td>nan</td></tr>\n",
       "<tr><td>6</td><td>3034.4784665196735</td><td>2013.3171901905816</td><td>None</td><td>3027</td><td>3041</td><td>2008</td><td>2019</td><td>118.0</td><td>3.679744512137104</td><td>2.2251127618584956</td><td>10.669830216042104</td><td>0.7964592627798567</td><td>15.392321586608887</td><td>64.57251739501953</td><td>0.0</td><td>3532.037266731262</td><td>nan</td><td>5705.786414085493</td><td>nan</td></tr>\n",
       "<tr><td>7</td><td>1354.2788635862182</td><td>2735.894937112262</td><td>None</td><td>1344</td><td>1362</td><td>2729</td><td>2742</td><td>183.0</td><td>3.9352899096053586</td><td>2.7023233847028716</td><td>10.687390524123604</td><td>0.7269505748070418</td><td>15.319518089294434</td><td>114.4680404663086</td><td>0.0</td><td>7904.39305973053</td><td>nan</td><td>9609.826814632243</td><td>nan</td></tr>\n",
       "<tr><td>8</td><td>2133.3687222376147</td><td>2798.291318985148</td><td>None</td><td>2124</td><td>2142</td><td>2791</td><td>2805</td><td>180.0</td><td>3.974994911555687</td><td>2.7586496815296946</td><td>11.958151187393367</td><td>0.7199742204456361</td><td>15.3637056350708</td><td>103.6877212524414</td><td>0.0</td><td>7298.304750442505</td><td>nan</td><td>7299.192522573929</td><td>nan</td></tr>\n",
       "<tr><td>9</td><td>1652.177820317746</td><td>3127.649908324739</td><td>None</td><td>1644</td><td>1660</td><td>3122</td><td>3133</td><td>140.0</td><td>3.7257040745150065</td><td>2.472506163472686</td><td>7.651268756796123</td><td>0.7480568874768515</td><td>15.40226936340332</td><td>72.3332748413086</td><td>0.0</td><td>4722.386731147766</td><td>nan</td><td>5862.135344900675</td><td>nan</td></tr>\n",
       "<tr><td>10</td><td>3908.428251416991</td><td>3489.900241608406</td><td>None</td><td>3895</td><td>3921</td><td>3477</td><td>3502</td><td>444.0</td><td>4.350076489497135</td><td>3.4579414649107196</td><td>12.31804642766899</td><td>0.6067206870585876</td><td>15.375649452209473</td><td>689.1823120117188</td><td>0.0</td><td>55872.14008140564</td><td>nan</td><td>57234.211081287845</td><td>nan</td></tr>\n",
       "</table></div>"
      ],
      "text/plain": [
       "<QTable length=10>\n",
       "label     xcentroid          ycentroid      ...     kron_flux      kron_fluxerr\n",
       "                                            ...                                \n",
       "int32      float64            float64       ...      float64         float64   \n",
       "----- ------------------ ------------------ ... ------------------ ------------\n",
       "    1  176.5752521074396 1019.7368239021661 ...  18439.08326486337          nan\n",
       "    2 2503.8747388798265 1067.1796990976197 ... 3420.8389509093113          nan\n",
       "    3  2486.448651913088 1103.9439241442524 ...  4867.819669991924          nan\n",
       "    4  1622.922748494046 1785.3510151213031 ...  13333.25872486088          nan\n",
       "    5 2045.8416455562071 2035.9266552765503 ... 1207926.5702658119          nan\n",
       "    6 3034.4784665196735 2013.3171901905816 ...  5705.786414085493          nan\n",
       "    7 1354.2788635862182  2735.894937112262 ...  9609.826814632243          nan\n",
       "    8 2133.3687222376147  2798.291318985148 ...  7299.192522573929          nan\n",
       "    9  1652.177820317746  3127.649908324739 ...  5862.135344900675          nan\n",
       "   10  3908.428251416991  3489.900241608406 ... 57234.211081287845          nan"
      ]
     },
     "execution_count": 24,
     "metadata": {},
     "output_type": "execute_result"
    }
   ],
   "source": [
    "#Obtenemos el catálogo de la primera\n",
    "cat_1b = SourceCatalog(data, sour_1b)\n",
    "#Lo pasamos a tabla y lo mostramos\n",
    "tbl_1b = cat_1b.to_table()\n",
    "tbl_1b"
   ]
  },
  {
   "cell_type": "code",
   "execution_count": 25,
   "id": "e155bb8b-dbfc-4884-82b7-3aa0a6c62e56",
   "metadata": {},
   "outputs": [
    {
     "name": "stdout",
     "output_type": "stream",
     "text": [
      "label     xcentroid          ycentroid      ...     kron_flux      kron_fluxerr\n",
      "                                            ...                                \n",
      "----- ------------------ ------------------ ... ------------------ ------------\n",
      "    1  176.5752521074396 1019.7368239021661 ...  18439.08326486337          nan\n",
      "    2 2503.8747388798265 1067.1796990976197 ... 3420.8389509093113          nan\n",
      "    3  2486.448651913088 1103.9439241442524 ...  4867.819669991924          nan\n",
      "    4  1622.922748494046 1785.3510151213031 ...  13333.25872486088          nan\n",
      "    5 2045.8416455562071 2035.9266552765503 ... 1207926.5702658119          nan\n",
      "    6 3034.4784665196735 2013.3171901905816 ...  5705.786414085493          nan\n",
      "    7 1354.2788635862182  2735.894937112262 ...  9609.826814632243          nan\n",
      "    8 2133.3687222376147  2798.291318985148 ...  7299.192522573929          nan\n",
      "    9  1652.177820317746  3127.649908324739 ...  5862.135344900675          nan\n",
      "   10  3908.428251416991  3489.900241608406 ... 57234.211081287845          nan\n",
      "label     xcentroid          ycentroid      ...     kron_flux      kron_fluxerr\n",
      "                                            ...                                \n",
      "----- ------------------ ------------------ ... ------------------ ------------\n",
      "    1 181.99857395872706 1020.4957143152735 ...  44928.42384103642          nan\n",
      "    2 1627.9920479729383 1785.5927109246666 ...   43779.8817466976          nan\n",
      "    3 3039.7855910172616 2013.9777501796468 ... 19600.002300521257          nan\n",
      "    4 2050.9758581312713 2036.2537647669028 ...  2104357.838917084          nan\n",
      "    5  1359.380822335215  2736.211428605835 ... 26568.270852414582          nan\n",
      "    6  2138.629135338673 2798.7028036671413 ... 27364.372795391453          nan\n",
      "    7 1657.0274907922742 3128.1796077447775 ... 34818.538281796245          nan\n",
      "    8 3913.8494264314563  3490.147026406626 ... 190603.24241543998          nan\n",
      "label     xcentroid          ycentroid      ...     kron_flux      kron_fluxerr\n",
      "                                            ...                                \n",
      "----- ------------------ ------------------ ... ------------------ ------------\n",
      "    1   3227.33968098488  772.8364173514066 ... 10717.805796649403          nan\n",
      "    2  359.3662107298665  978.0276654896866 ... 2591.4514252481003          nan\n",
      "    3  2348.117135972253 1156.2139800025934 ...  5300.286713206927          nan\n",
      "    4 117.13064587410229 1253.3093254123933 ...  19839.64214888319          nan\n",
      "    5 3561.5104150635343  1392.401938480887 ... 22303.530755422813          nan\n",
      "    6 2041.8715330038492 2044.6310383211567 ... 1078438.2572069997          nan\n",
      "    7 3093.6871506806847 2197.5185500066937 ... 3822.6495807359943          nan\n",
      "    8  888.5434226136681  2273.042798356714 ... 2754.4477687959507          nan\n",
      "    9   3237.38517185612 2468.5380656018892 ... 2379.4334518757396          nan\n",
      "   10 1686.0424056947315 2918.2051799501164 ... 50380.701819057096          nan\n",
      "   11  723.1572235078922 3277.8351488980547 ...  8950.130952905183          nan\n",
      "   12 3443.7087031011524 3448.2447001467194 ...  11407.93681875311          nan\n",
      "   13 2404.8895072859445 4037.1844636378723 ...   8885.52819397184          nan\n",
      "label     xcentroid          ycentroid      ...     kron_flux      kron_fluxerr\n",
      "                                            ...                                \n",
      "----- ------------------ ------------------ ... ------------------ ------------\n",
      "    1 181.64585576781505 1020.4379214670287 ...  35477.77982462148          nan\n",
      "    2 1627.3762791981987 1785.2408840621817 ... 356660.19101165025          nan\n",
      "    3 3039.6277594026405  2014.122031158104 ...  29759.94621855534          nan\n",
      "    4  2041.581949712062  2043.206429286929 ... 2175838.3082092027          nan\n",
      "    5 1359.0860714449602  2735.903915716352 ...   30592.0204039554          nan\n",
      "    6  2138.139646721799  2798.723913562322 ...  305322.3627875749          nan\n",
      "    7 1656.5554608926009 3128.1486420512706 ... 30899.947964431623          nan\n",
      "    8 3914.0258032328616  3489.571316776665 ...  95019.58330260741          nan\n"
     ]
    }
   ],
   "source": [
    "#Catalogo de las 4\n",
    "# Catálogo para HIP117678 \n",
    "cat_1b = SourceCatalog(star_1b.data, sour_1b)\n",
    "cat_1v = SourceCatalog(star_1v.data, sour_1v)\n",
    "# Catálogo para HIP116375  \n",
    "cat_2b = SourceCatalog(star_2b.data, sour_2b)\n",
    "cat_2v = SourceCatalog(star_2v.data, sour_2v)\n",
    "\n",
    "#Lo pasamos a tabla y lo mostramos\n",
    "tbl_1b = cat_1b.to_table()\n",
    "tbl_1v = cat_1v.to_table()\n",
    "tbl_2b = cat_2b.to_table()\n",
    "tbl_2v = cat_2v.to_table()\n",
    "\n",
    "print(tbl_1b)\n",
    "print(tbl_1v)\n",
    "print(tbl_2b)\n",
    "print(tbl_2v)"
   ]
  },
  {
   "cell_type": "code",
   "execution_count": 26,
   "id": "824d3e62-77c5-4de8-ac06-49510a719fb3",
   "metadata": {},
   "outputs": [
    {
     "name": "stdout",
     "output_type": "stream",
     "text": [
      "label     xcentroid          ycentroid       area     segment_flux   \n",
      "                                             pix2                    \n",
      "----- ------------------ ------------------ ------ ------------------\n",
      "    1  176.5752521074396 1019.7368239021661  258.0 15895.371398925781\n",
      "    2 2503.8747388798265 1067.1796990976197   55.0  1099.720030784607\n",
      "    3  2486.448651913088 1103.9439241442524   91.0  2189.994330406189\n",
      "    4  1622.922748494046 1785.3510151213031  238.0 13197.379608154297\n",
      "    5 2045.8416455562071 2035.9266552765503 2136.0 1236592.6837854385\n",
      "    6 3034.4784665196735 2013.3171901905816  118.0  3532.037266731262\n",
      "    7 1354.2788635862182  2735.894937112262  183.0   7904.39305973053\n",
      "    8 2133.3687222376147  2798.291318985148  180.0  7298.304750442505\n",
      "    9  1652.177820317746  3127.649908324739  140.0  4722.386731147766\n",
      "   10  3908.428251416991  3489.900241608406  444.0  55872.14008140564\n",
      "label     xcentroid          ycentroid       area     segment_flux   \n",
      "                                             pix2                    \n",
      "----- ------------------ ------------------ ------ ------------------\n",
      "    1 181.99857395872706 1020.4957143152735  129.0  24065.02473449707\n",
      "    2 1627.9920479729383 1785.5927109246666  140.0 25380.376335144043\n",
      "    3 3039.7855910172616 2013.9777501796468   59.0 8011.1549072265625\n",
      "    4 2050.9758581312713 2036.2537647669028 1100.0  2137005.584625244\n",
      "    5  1359.380822335215  2736.211428605835   74.0 10013.930557250977\n",
      "    6  2138.629135338673 2798.7028036671413  114.0  18919.14430999756\n",
      "    7 1657.0274907922742 3128.1796077447775   79.0 11108.840660095215\n",
      "    8 3913.8494264314563  3490.147026406626  325.0 182971.27535247803\n",
      "label     xcentroid          ycentroid       area     segment_flux   \n",
      "                                             pix2                    \n",
      "----- ------------------ ------------------ ------ ------------------\n",
      "    1   3227.33968098488  772.8364173514066  165.0  9856.440896987915\n",
      "    2  359.3662107298665  978.0276654896866   59.0 1352.5278215408325\n",
      "    3  2348.117135972253 1156.2139800025934  111.0  4154.123359680176\n",
      "    4 117.13064587410229 1253.3093254123933  220.0  18304.78614425659\n",
      "    5 3561.5104150635343  1392.401938480887  225.0  20873.49444293976\n",
      "    6 2041.8715330038492 2044.6310383211567 1935.0  1110908.648759842\n",
      "    7 3093.6871506806847 2197.5185500066937   77.0 2401.4045553207397\n",
      "    8  888.5434226136681  2273.042798356714   79.0 2553.6669359207153\n",
      "    9   3237.38517185612 2468.5380656018892   54.0   1458.26451587677\n",
      "   10 1686.0424056947315 2918.2051799501164  370.0 50171.367374420166\n",
      "   11  723.1572235078922 3277.8351488980547  142.0  7380.539000511169\n",
      "   12 3443.7087031011524 3448.2447001467194  149.0  10467.17069530487\n",
      "   13 2404.8895072859445 4037.1844636378723  124.0  8472.685094833374\n",
      "label     xcentroid          ycentroid       area     segment_flux   \n",
      "                                             pix2                    \n",
      "----- ------------------ ------------------ ------ ------------------\n",
      "    1 181.64585576781505 1020.4379214670287  129.0 2606.5179398208857\n",
      "    2 1627.3762791981987 1785.2408840621817  140.0 3016.3310174047947\n",
      "    3 3039.6277594026405  2014.122031158104   60.0 1178.8894336819649\n",
      "    4  2041.581949712062  2043.206429286929 1107.0 1905619.0182647705\n",
      "    5 1359.0860714449602  2735.903915716352   75.0   2097.89543569088\n",
      "    6  2138.139646721799  2798.723913562322  116.0 2863.8759918510914\n",
      "    7 1656.5554608926009 3128.1486420512706   80.0 2129.4783801212907\n",
      "    8 3914.0258032328616  3489.571316776665  325.0 5322.9712021797895\n"
     ]
    }
   ],
   "source": [
    "# Ahora extraemos las columnas\n",
    "tabla_1b = tbl_1b['label', 'xcentroid', 'ycentroid', 'area', 'segment_flux']\n",
    "tabla_1v = tbl_1v['label', 'xcentroid', 'ycentroid', 'area', 'segment_flux']\n",
    "tabla_2b = tbl_2b['label', 'xcentroid', 'ycentroid', 'area', 'segment_flux']\n",
    "tabla_2v = tbl_2v['label', 'xcentroid', 'ycentroid', 'area', 'segment_flux']\n",
    "print(tabla_1b)\n",
    "print(tabla_1v)\n",
    "print(tabla_2b)\n",
    "print(tabla_2v)"
   ]
  },
  {
   "cell_type": "code",
   "execution_count": 27,
   "id": "6e572e39-65fd-41f1-be27-54ba3ea0b23e",
   "metadata": {},
   "outputs": [
    {
     "name": "stdout",
     "output_type": "stream",
     "text": [
      "label     xcentroid          ycentroid       area     segment_flux   \n",
      "                                             pix2                    \n",
      "----- ------------------ ------------------ ------ ------------------\n",
      "    1  176.5752521074396 1019.7368239021661  258.0 3179.0742797851562\n",
      "    2 2503.8747388798265 1067.1796990976197   55.0 219.94400615692138\n",
      "    3  2486.448651913088 1103.9439241442524   91.0  437.9988660812378\n",
      "    4  1622.922748494046 1785.3510151213031  238.0 2639.4759216308594\n",
      "    5 2045.8416455562071 2035.9266552765503 2136.0  247318.5367570877\n",
      "    6 3034.4784665196735 2013.3171901905816  118.0  706.4074533462524\n",
      "    7 1354.2788635862182  2735.894937112262  183.0  1580.878611946106\n",
      "    8 2133.3687222376147  2798.291318985148  180.0  1459.660950088501\n",
      "    9  1652.177820317746  3127.649908324739  140.0  944.4773462295532\n",
      "   10  3908.428251416991  3489.900241608406  444.0 11174.428016281128\n",
      "label     xcentroid          ycentroid       area     segment_flux   \n",
      "                                             pix2                    \n",
      "----- ------------------ ------------------ ------ ------------------\n",
      "    1 181.99857395872706 1020.4957143152735  129.0  4813.004946899414\n",
      "    2 1627.9920479729383 1785.5927109246666  140.0  5076.075267028808\n",
      "    3 3039.7855910172616 2013.9777501796468   59.0 1602.2309814453124\n",
      "    4 2050.9758581312713 2036.2537647669028 1100.0  427401.1169250488\n",
      "    5  1359.380822335215  2736.211428605835   74.0 2002.7861114501952\n",
      "    6  2138.629135338673 2798.7028036671413  114.0  3783.828861999512\n",
      "    7 1657.0274907922742 3128.1796077447775   79.0  2221.768132019043\n",
      "    8 3913.8494264314563  3490.147026406626  325.0  36594.25507049561\n",
      "label     xcentroid          ycentroid       area     segment_flux   \n",
      "                                             pix2                    \n",
      "----- ------------------ ------------------ ------ ------------------\n",
      "    1   3227.33968098488  772.8364173514066  165.0  1971.288179397583\n",
      "    2  359.3662107298665  978.0276654896866   59.0  270.5055643081665\n",
      "    3  2348.117135972253 1156.2139800025934  111.0  830.8246719360352\n",
      "    4 117.13064587410229 1253.3093254123933  220.0  3660.957228851318\n",
      "    5 3561.5104150635343  1392.401938480887  225.0  4174.698888587952\n",
      "    6 2041.8715330038492 2044.6310383211567 1935.0 222181.72975196838\n",
      "    7 3093.6871506806847 2197.5185500066937   77.0   480.280911064148\n",
      "    8  888.5434226136681  2273.042798356714   79.0 510.73338718414306\n",
      "    9   3237.38517185612 2468.5380656018892   54.0   291.652903175354\n",
      "   10 1686.0424056947315 2918.2051799501164  370.0 10034.273474884034\n",
      "   11  723.1572235078922 3277.8351488980547  142.0 1476.1078001022338\n",
      "   12 3443.7087031011524 3448.2447001467194  149.0 2093.4341390609743\n",
      "   13 2404.8895072859445 4037.1844636378723  124.0 1694.5370189666749\n",
      "label     xcentroid          ycentroid       area     segment_flux   \n",
      "                                             pix2                    \n",
      "----- ------------------ ------------------ ------ ------------------\n",
      "    1 181.64585576781505 1020.4379214670287  129.0  521.3035879641772\n",
      "    2 1627.3762791981987 1785.2408840621817  140.0  603.2662034809589\n",
      "    3 3039.6277594026405  2014.122031158104   60.0   235.777886736393\n",
      "    4  2041.581949712062  2043.206429286929 1107.0  381123.8036529541\n",
      "    5 1359.0860714449602  2735.903915716352   75.0 419.57908713817596\n",
      "    6  2138.139646721799  2798.723913562322  116.0  572.7751983702183\n",
      "    7 1656.5554608926009 3128.1486420512706   80.0 425.89567602425814\n",
      "    8 3914.0258032328616  3489.571316776665  325.0  1064.594240435958\n"
     ]
    }
   ],
   "source": [
    "#obtenemos flujo real\n",
    "tabla_1b['segment_flux'] = tabla_1b['segment_flux']/header['EXPTIME']\n",
    "tabla_1v['segment_flux'] = tabla_1v['segment_flux']/header['EXPTIME']\n",
    "tabla_2b['segment_flux'] = tabla_2b['segment_flux']/header['EXPTIME']\n",
    "tabla_2v['segment_flux'] = tabla_2v['segment_flux']/header['EXPTIME']\n",
    "#mostamos\n",
    "print(tabla_1b)\n",
    "print(tabla_1v)\n",
    "print(tabla_2b)\n",
    "print(tabla_2v)"
   ]
  },
  {
   "cell_type": "code",
   "execution_count": 28,
   "id": "7ba55112-df7f-4501-a654-6dce3721e3ab",
   "metadata": {},
   "outputs": [
    {
     "name": "stdout",
     "output_type": "stream",
     "text": [
      "label     xcentroid      ...    segment_flux         magnitude      \n",
      "                         ...                                        \n",
      "----- ------------------ ... ------------------ --------------------\n",
      "    1  176.5752521074396 ... 3179.0742797851562   10.814051291468207\n",
      "    2 2503.8747388798265 ... 219.94400615692138   17.491482116267715\n",
      "    3  2486.448651913088 ...  437.9988660812378   15.769373803695917\n",
      "    4  1622.922748494046 ... 2639.4759216308594   11.279075452739654\n",
      "    5 2045.8416455562071 ...  247318.5367570877 -0.07116641065938722\n",
      "    6 3034.4784665196735 ...  706.4074533462524   14.574434106480219\n",
      "    7 1354.2788635862182 ...  1580.878611946106   12.560574470054437\n",
      "    8 2133.3687222376147 ...  1459.660950088501   12.760015953072159\n",
      "    9  1652.177820317746 ...  944.4773462295532    13.84833535319055\n",
      "   10  3908.428251416991 ... 11174.428016281128    7.671456522623579\n",
      "label     xcentroid      ...    segment_flux        magnitude     \n",
      "                         ...                                      \n",
      "----- ------------------ ... ------------------ ------------------\n",
      "    1 181.99857395872706 ...  4813.004946899414 10.095565420599918\n",
      "    2 1627.9920479729383 ...  5076.075267028808  9.962523521546771\n",
      "    3 3039.7855910172616 ... 1602.2309814453124 12.845376912384125\n",
      "    4 2050.9758581312713 ...  427401.1169250488 -1.120437924505822\n",
      "    5  1359.380822335215 ... 2002.7861114501952 12.287521298744192\n",
      "    6  2138.629135338673 ...  3783.828861999512 10.697028407395546\n",
      "    7 1657.0274907922742 ...  2221.768132019043 12.028111129087044\n",
      "    8 3913.8494264314563 ...  36594.25507049561  5.024141308952004\n",
      "label     xcentroid      ...    segment_flux         magnitude     \n",
      "                         ...                                       \n",
      "----- ------------------ ... ------------------ -------------------\n",
      "    1   3227.33968098488 ...  1971.288179397583  12.008808341976753\n",
      "    2  359.3662107298665 ...  270.5055643081665   16.97418293616386\n",
      "    3  2348.117135972253 ...  830.8246719360352  14.168867637084777\n",
      "    4 117.13064587410229 ...  3660.957228851318  10.461214782144985\n",
      "    5 3561.5104150635343 ...  4174.698888587952  10.132920827014349\n",
      "    6 2041.8715330038492 ... 222181.72975196838 0.19678728631839348\n",
      "    7 3093.6871506806847 ...   480.280911064148  15.538986697228413\n",
      "    8  888.5434226136681 ... 510.73338718414306  15.385295340357558\n",
      "    9   3237.38517185612 ...   291.652903175354  16.786003588832124\n",
      "   10 1686.0424056947315 ... 10034.273474884034     7.9405099587526\n",
      "   11  723.1572235078922 ... 1476.1078001022338  12.732004513006885\n",
      "   12 3443.7087031011524 ... 2093.4341390609743  11.858511794396932\n",
      "   13 2404.8895072859445 ... 1694.5370189666749  12.387002514111565\n",
      "label     xcentroid      ...    segment_flux         magnitude     \n",
      "                         ...                                       \n",
      "----- ------------------ ... ------------------ -------------------\n",
      "    1 181.64585576781505 ...  521.3035879641772  15.652426227220598\n",
      "    2 1627.3762791981987 ...  603.2662034809589  15.287361252275605\n",
      "    3 3039.6277594026405 ...   235.777886736393  17.636032153502796\n",
      "    4  2041.581949712062 ...  381123.8036529541 -0.8339411998351878\n",
      "    5 1359.0860714449602 ... 419.57908713817596  16.195127575194096\n",
      "    6  2138.139646721799 ...  572.7751983702183  15.417024373971444\n",
      "    7 1656.5554608926009 ... 425.89567602425814  16.157771602615774\n",
      "    8 3914.0258032328616 ...  1064.594240435958  13.867385136780491\n"
     ]
    }
   ],
   "source": [
    "#Magnitud calibrada\n",
    "tabla_1b['magnitude'] = zp_mean_b - 2.5 * np.log(tabla_1b['segment_flux'])\n",
    "tabla_1v['magnitude'] = zp_mean_v - 2.5 * np.log(tabla_1v['segment_flux'])\n",
    "tabla_2b['magnitude'] = zp_mean_b - 2.5 * np.log(tabla_2b['segment_flux'])\n",
    "tabla_2v['magnitude'] = zp_mean_v - 2.5 * np.log(tabla_2v['segment_flux'])\n",
    "\n",
    "print(tabla_1b)\n",
    "print(tabla_1v)\n",
    "print(tabla_2b)\n",
    "print(tabla_2v)"
   ]
  },
  {
   "cell_type": "code",
   "execution_count": 29,
   "id": "eb9b94d6-318b-4e78-a71d-98cfdd614a99",
   "metadata": {},
   "outputs": [
    {
     "name": "stdout",
     "output_type": "stream",
     "text": [
      "39.022104169660096 39.34044722557779\n"
     ]
    }
   ],
   "source": [
    "#Buscamos la fuente que es la estrella (mayor área)\n",
    "star_1b_index = np.argmax(tabla_1b['area'])\n",
    "star_1v_index = np.argmax(tabla_1v['area'])\n",
    "star_2b_index = np.argmax(tabla_2b['area'])\n",
    "star_2v_index = np.argmax(tabla_2v['area'])\n",
    "\n",
    "#Obtenemos flujo\n",
    "flux_star_1b = tabla_1b['segment_flux'][star_1b_index]\n",
    "flux_star_1v = tabla_1v['segment_flux'][star_1v_index]\n",
    "flux_star_2b = tabla_2b['segment_flux'][star_2b_index]\n",
    "flux_star_2v = tabla_2v['segment_flux'][star_2v_index]\n",
    "\n",
    "#Magnitud media\n",
    "mag_1b = -2.5 * np.log(flux_star_1b)\n",
    "mag_1v = -2.5 * np.log(flux_star_1v)\n",
    "mag_2b = -2.5 * np.log(flux_star_2b)\n",
    "mag_2v = -2.5 * np.log(flux_star_2v)\n",
    "\n",
    "#Zeropoint (depende del filtro y la estrella)\n",
    "zp_1b =  8.05 - mag_1b\n",
    "zp_1v =  7.06 - mag_1v\n",
    "zp_2b =  8.17 - mag_2b\n",
    "zp_2v =  7.08 - mag_2v\n",
    "\n",
    "zp_mean_b = (zp_1b + zp_2b)/2\n",
    "zp_mean_v = (zp_1v + zp_2v)/2\n",
    "\n",
    "print(zp_mean_b,zp_mean_v)"
   ]
  }
 ],
 "metadata": {
  "kernelspec": {
   "display_name": "Python [conda env:astro_env]",
   "language": "python",
   "name": "conda-env-astro_env-py"
  },
  "language_info": {
   "codemirror_mode": {
    "name": "ipython",
    "version": 3
   },
   "file_extension": ".py",
   "mimetype": "text/x-python",
   "name": "python",
   "nbconvert_exporter": "python",
   "pygments_lexer": "ipython3",
   "version": "3.10.18"
  }
 },
 "nbformat": 4,
 "nbformat_minor": 5
}
